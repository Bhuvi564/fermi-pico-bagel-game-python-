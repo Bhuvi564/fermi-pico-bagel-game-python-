{
  "nbformat": 4,
  "nbformat_minor": 0,
  "metadata": {
    "colab": {
      "provenance": [],
      "authorship_tag": "ABX9TyPH45thw/XVdxgd+EB0BJqF",
      "include_colab_link": true
    },
    "kernelspec": {
      "name": "python3",
      "display_name": "Python 3"
    },
    "language_info": {
      "name": "python"
    }
  },
  "cells": [
    {
      "cell_type": "markdown",
      "metadata": {
        "id": "view-in-github",
        "colab_type": "text"
      },
      "source": [
        "<a href=\"https://colab.research.google.com/github/Bhuvi564/fermi-pico-bagel-game-python-/blob/main/fermi_pico_bagel.ipynb\" target=\"_parent\"><img src=\"https://colab.research.google.com/assets/colab-badge.svg\" alt=\"Open In Colab\"/></a>"
      ]
    },
    {
      "cell_type": "code",
      "execution_count": 8,
      "metadata": {
        "colab": {
          "base_uri": "https://localhost:8080/"
        },
        "id": "77Ywr5es6SF5",
        "outputId": "6a62820f-591b-43d9-d247-f8fcd4756847"
      },
      "outputs": [
        {
          "output_type": "stream",
          "name": "stdout",
          "text": [
            "Guess the number: 123\n",
            " Fermi  Fermi  Fermi \n",
            "\n",
            "You won !!\n"
          ]
        }
      ],
      "source": [
        "original_number = '123'\n",
        "\n",
        "while True :\n",
        "    output = []\n",
        "    guess_number = input('Guess the number: ')\n",
        "\n",
        "    if len((guess_number)) != len(original_number):\n",
        "        print('Enter a ' + str(len(original_number)) + ' digit number.')\n",
        "        continue\n",
        "\n",
        "    if len(guess_number)  != len(set(guess_number)):\n",
        "        print('Duplicate number')\n",
        "        continue\n",
        "\n",
        "    if int(guess_number) == int(original_number) :\n",
        "        print(' Fermi '*len(original_number))\n",
        "        print('\\nYou won !!')\n",
        "        break\n",
        "\n",
        "    for i in range(len(original_number)):\n",
        "        for j in range(len(guess_number)):\n",
        "            if original_number[i] == guess_number[j]:\n",
        "                if i == j:\n",
        "                    output.append('Fermi')\n",
        "                else:\n",
        "                    output.append('Pico')\n",
        "\n",
        "    output_string = ''\n",
        "    for item in output :\n",
        "        output_string = output_string + ' ' + item\n",
        "\n",
        "\n",
        "    if len(output) == 0:\n",
        "        print(' Bagels')\n",
        "    else:\n",
        "        print(output_string)"
      ]
    }
  ]
}