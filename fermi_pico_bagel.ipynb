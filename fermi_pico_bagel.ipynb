{
  "nbformat": 4,
  "nbformat_minor": 0,
  "metadata": {
    "colab": {
      "provenance": [],
      "authorship_tag": "ABX9TyO6jbM0RMBZT2pfcbHyQTU0",
      "include_colab_link": true
    },
    "kernelspec": {
      "name": "python3",
      "display_name": "Python 3"
    },
    "language_info": {
      "name": "python"
    }
  },
  "cells": [
    {
      "cell_type": "markdown",
      "metadata": {
        "id": "view-in-github",
        "colab_type": "text"
      },
      "source": [
        "<a href=\"https://colab.research.google.com/github/Bhuvi564/fermi-pico-bagel-game-python-/blob/main/fermi_pico_bagel.ipynb\" target=\"_parent\"><img src=\"https://colab.research.google.com/assets/colab-badge.svg\" alt=\"Open In Colab\"/></a>"
      ]
    },
    {
      "cell_type": "code",
      "execution_count": 2,
      "metadata": {
        "colab": {
          "base_uri": "https://localhost:8080/"
        },
        "id": "77Ywr5es6SF5",
        "outputId": "080906be-4838-4d8f-a08a-72e173d39795"
      },
      "outputs": [
        {
          "output_type": "stream",
          "name": "stdout",
          "text": [
            "\n",
            "Guess the number: 123\n",
            " Fermi  Fermi  Fermi \n",
            "\n",
            "You won !!\n"
          ]
        }
      ],
      "source": [
        "original_number = '123'\n",
        "\n",
        "while True :\n",
        "    output = []\n",
        "    guess_number = input('\\nGuess the number: ')\n",
        "\n",
        "    if len((guess_number)) != len(original_number):\n",
        "        print(f'Enter {len(original_number)} digit number')\n",
        "        continue\n",
        "\n",
        "    if len(guess_number)  != len(set(guess_number)):\n",
        "        print('Duplicate number')\n",
        "        continue\n",
        "\n",
        "    if (int(guess_number) - int(original_number)) == 0 :\n",
        "        print(' Fermi '*len(original_number))\n",
        "        print('\\nYou won !!')\n",
        "        break\n",
        "\n",
        "    for i in range(len(original_number)):\n",
        "        for j in range(len(guess_number)):\n",
        "            if original_number[i] == guess_number[j]:\n",
        "                if i == j:\n",
        "                    output.append('Fermi')\n",
        "                else:\n",
        "                    output.append('Pico')\n",
        "\n",
        "    output_string = ''\n",
        "    for item in output :\n",
        "        output_string = output_string + ' ' + item\n",
        "\n",
        "\n",
        "    if len(output) == 0:\n",
        "        print(' Bagels')\n",
        "    else:\n",
        "        print(output_string)"
      ]
    }
  ]
}